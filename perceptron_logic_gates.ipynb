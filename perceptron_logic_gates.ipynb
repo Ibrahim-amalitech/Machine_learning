{
 "cells": [
  {
   "cell_type": "markdown",
   "id": "b57acb30",
   "metadata": {},
   "source": [
    "# Perceptron Logic Gates"
   ]
  },
  {
   "cell_type": "markdown",
   "id": "70a2b267",
   "metadata": {},
   "source": [
    "To begin, let’s think of an AND gate as a dataset of four points. The four points should be the four possible inputs to the AND gate. For example, the first point in the dataset should be [0, 0].\n",
    "\n",
    "Create a variable named data that is a list that contains the four possible inputs to an AND gate.\n",
    "\n",
    "Create a variable named labels. This should be a list where each label corresponds to a point in data. For example, if the last item in data is [1, 1], the last label should be 1"
   ]
  },
  {
   "cell_type": "markdown",
   "id": "aa093806",
   "metadata": {},
   "source": [
    "from sklearn.linear_model import Perceptron\n",
    "import matplotlib.pyplot as plt\n",
    "import numpy as np\n",
    "from itertools import product\n",
    "\n",
    "data=[[0,0],[0,1],[1,1],[1,0]]\n",
    "labels=[0,0,1,0]"
   ]
  },
  {
   "cell_type": "markdown",
   "id": "ba8b62ee",
   "metadata": {},
   "source": [
    "Let’s plot these four points on a graph"
   ]
  },
  {
   "cell_type": "code",
   "execution_count": 2,
   "id": "6e2a7581",
   "metadata": {},
   "outputs": [
    {
     "data": {
      "image/png": "[encoded data removed]",
      "text/plain": [
       "<Figure size 432x288 with 1 Axes>"
      ]
     },
     "metadata": {
      "needs_background": "light"
     },
     "output_type": "display_data"
    }
   ],
   "source": [
    "plt.scatter([point[0] for point in data],[point[1] for point in data],c=labels)\n",
    "plt.show()"
   ]
  },
  {
   "cell_type": "markdown",
   "id": "03ef7198",
   "metadata": {},
   "source": [
    "Now that we have our data, let’s build a perceptron to learn AND. Create a Perceptron object named classifier. For now, set the parameter max_iter to 40."
   ]
  },
  {
   "cell_type": "code",
   "execution_count": 3,
   "id": "bc918349",
   "metadata": {},
   "outputs": [
    {
     "data": {
      "text/plain": [
       "Perceptron(max_iter=40)"
      ]
     },
     "execution_count": 3,
     "metadata": {},
     "output_type": "execute_result"
    }
   ],
   "source": [
    "classifier=Perceptron(max_iter =40)\n",
    "classifier.fit(data,labels)\n"
   ]
  },
  {
   "cell_type": "markdown",
   "id": "c9115915",
   "metadata": {},
   "source": [
    "We’ll now train the model. Call the .fit() method using data and labels as parameters.\n",
    "\n",
    "Let’s see if the algorithm learned AND. Call classifier‘s .score() method using data and labels as parameters. Print the results"
   ]
  },
  {
   "cell_type": "code",
   "execution_count": 4,
   "id": "f3102a26",
   "metadata": {},
   "outputs": [
    {
     "name": "stdout",
     "output_type": "stream",
     "text": [
      "1.0\n"
     ]
    }
   ],
   "source": [
    "classifier.fit(data,labels)\n",
    "\n",
    "print(classifier.score(data,labels))"
   ]
  },
  {
   "cell_type": "markdown",
   "id": "e6b11136",
   "metadata": {},
   "source": [
    "Your perceptron should have 100% accuracy! You just taught it an AND gate!\n",
    "\n",
    "Let’s change the labels so your data now represents an XOR gate. The label should be a 1 only if one of the inputs is a 1. What is the accuracy of the perceptron now? Is the data linearly separable?"
   ]
  },
  {
   "cell_type": "code",
   "execution_count": 6,
   "id": "f296ee89",
   "metadata": {},
   "outputs": [
    {
     "name": "stdout",
     "output_type": "stream",
     "text": [
      "0.5\n"
     ]
    }
   ],
   "source": [
    "# XOR gate\n",
    "data=[[0,0],[0,1],[1,1],[1,0]]\n",
    "labels=[0,1,0,1]\n",
    "\n",
    "classifier.fit(data,labels)\n",
    "classifier.fit(data,labels)\n",
    "\n",
    "print(classifier.score(data,labels))"
   ]
  },
  {
   "cell_type": "code",
   "execution_count": null,
   "id": "9b8e62e8",
   "metadata": {},
   "outputs": [],
   "source": [
    "Try changing the data to represent an OR gate. The label of a point should be a 1 if any of the input values are a 1."
   ]
  },
  {
   "cell_type": "code",
   "execution_count": 7,
   "id": "b74c9066",
   "metadata": {},
   "outputs": [
    {
     "name": "stdout",
     "output_type": "stream",
     "text": [
      "1.0\n"
     ]
    }
   ],
   "source": [
    "#OR gate\n",
    "data=[[0,0],[0,1],[1,1],[1,0]]\n",
    "labels=[0,1,1,1]\n",
    "\n",
    "classifier.fit(data,labels)\n",
    "classifier.fit(data,labels)\n",
    "\n",
    "print(classifier.score(data,labels))"
   ]
  },
  {
   "cell_type": "markdown",
   "id": "4e89db5e",
   "metadata": {},
   "source": [
    "We know the perceptron has been trained correctly, but let’s try to visualize what decision boundary it is making. Reset your labels to be representing an AND gate.\n",
    "\n",
    "Let’s first investigate the classifier’s .decision_function() method. Given a list of points, this method returns the distance those points are from the decision boundary. The closer the number is to 0, the closer that point is to the decision boundary.\n",
    "\n",
    "Try calling classifier‘s .decision_function() method using [[0, 0], [1, 1], [0.5, 0.5]] as a parameter. Print the results.\n",
    "\n",
    "Is the point [0, 0] or the point [1, 1] closer to the decision boundary?"
   ]
  },
  {
   "cell_type": "code",
   "execution_count": 8,
   "id": "4a9aa024",
   "metadata": {},
   "outputs": [
    {
     "name": "stdout",
     "output_type": "stream",
     "text": [
      "[-3.  1. -1.]\n"
     ]
    }
   ],
   "source": [
    "data=[[0,0],[0,1],[1,1],[1,0]]\n",
    "labels=[0,0,1,0]\n",
    "classifier.fit(data,labels)\n",
    "classifier.fit(data,labels)\n",
    "print(classifier.decision_function([[0, 0], [1, 1], [0.5, 0.5]]))"
   ]
  },
  {
   "cell_type": "markdown",
   "id": "322bd818",
   "metadata": {},
   "source": [
    "Even though an input like [0.5, 0.5] isn’t a real input to an AND logic gate, we can still check to see how far it is from the decision boundary. We could also do this to the point [0, 0.1], [0, 0.2] and so on. If we do this for a grid of points, we can make a heat map that reveals the decision boundary. To begin, we need to create a list of the points we want to input to .decision_function(). Begin by creating a list named x_values. x_values should be a list of 100 evenly spaced decimals between 0 and 1. np.linspace(0, 1, 100) will do this. Do the same for y_values.\n",
    "\n",
    "Call product() using x_values and y_values as paramters. Don’t forget to put list() around the call to product(). Store the result in a variable named point_grid."
   ]
  },
  {
   "cell_type": "code",
   "execution_count": 9,
   "id": "a962a61f",
   "metadata": {},
   "outputs": [],
   "source": [
    "x_values=np.linspace(0, 1, 100)\n",
    "y_values=np.linspace(0, 1, 100)\n",
    "point_grid=list(product(x_values,y_values))"
   ]
  },
  {
   "cell_type": "markdown",
   "id": "78dadb93",
   "metadata": {},
   "source": [
    "Call classifier‘s .decision_function() method using point_grid as a parameter. Store the results in a variable named distances."
   ]
  },
  {
   "cell_type": "code",
   "execution_count": 10,
   "id": "f2eaa104",
   "metadata": {},
   "outputs": [],
   "source": [
    "distances=classifier.decision_function(point_grid)"
   ]
  },
  {
   "cell_type": "markdown",
   "id": "3646141b",
   "metadata": {},
   "source": [
    "Right now distances stores positive and negative values. We only care about how far away a point is from the boundary — we don’t care about the sign.\n",
    "\n",
    "Take the absolute value of every distance. Use list comprehension to call abs() on every point in the list and store it in a new variable called abs_distances."
   ]
  },
  {
   "cell_type": "code",
   "execution_count": 11,
   "id": "8103ebe4",
   "metadata": {},
   "outputs": [],
   "source": [
    "abs_distances=[abs(pt) for pt in distances]"
   ]
  },
  {
   "cell_type": "markdown",
   "id": "1a42f676",
   "metadata": {},
   "source": [
    "We’re almost ready to draw the heat map. We’re going to be using Matplotlib’s pcolormesh() function.\n",
    "It’s finally time to draw the heat map! Call plt.pcolormesh() with the following three parameters:\n",
    "\n",
    "x_values\n",
    "y_values\n",
    "distances_matrix\n",
    "Save the result in a variable named heatmap.\n",
    "\n",
    "Then call plt.colorbar() using heatmap as a parameter. This will put a legend on the heat map."
   ]
  },
  {
   "cell_type": "code",
   "execution_count": 13,
   "id": "719e83ea",
   "metadata": {},
   "outputs": [
    {
     "name": "stderr",
     "output_type": "stream",
     "text": [
      "<ipython-input-13-c8659d701db5>:2: MatplotlibDeprecationWarning: shading='flat' when X and Y have the same dimensions as C is deprecated since 3.3.  Either specify the corners of the quadrilaterals with X and Y, or pass shading='auto', 'nearest' or 'gouraud', or set rcParams['pcolor.shading'].  This will become an error two minor releases later.\n",
      "  heatmap=plt.pcolormesh(x_values,y_values,distances_matrix)\n"
     ]
    },
    {
     "data": {
      "image/png": "[encoded data removed]",
      "text/plain": [
       "<Figure size 432x288 with 2 Axes>"
      ]
     },
     "metadata": {
      "needs_background": "light"
     },
     "output_type": "display_data"
    }
   ],
   "source": [
    "\n",
    "distances_matrix=np.reshape(abs_distances,(100,100))\n",
    "heatmap=plt.pcolormesh(x_values,y_values,distances_matrix)\n",
    "plt.colorbar(heatmap)\n",
    "plt.show()"
   ]
  },
  {
   "cell_type": "code",
   "execution_count": null,
   "id": "9bb55965",
   "metadata": {},
   "outputs": [],
   "source": []
  }
 ],
 "metadata": {
  "kernelspec": {
   "display_name": "Python 3",
   "language": "python",
   "name": "python3"
  },
  "language_info": {
   "codemirror_mode": {
    "name": "ipython",
    "version": 3
   },
   "file_extension": ".py",
   "mimetype": "text/x-python",
   "name": "python",
   "nbconvert_exporter": "python",
   "pygments_lexer": "ipython3",
   "version": "3.9.4"
  }
 },
 "nbformat": 4,
 "nbformat_minor": 5
}
