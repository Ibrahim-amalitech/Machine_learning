{
 "cells": [
  {
   "cell_type": "markdown",
   "id": "c8f4063b",
   "metadata": {},
   "source": [
    "# Predicting Income with Random Forests"
   ]
  },
  {
   "cell_type": "markdown",
   "id": "7701364d",
   "metadata": {},
   "source": [
    "Predicting Income with Random Forests\n",
    "In this project, we will be using a dataset containing census information from UCI’s Machine Learning Repository.\n",
    "\n",
    "By using this census data with a random forest, we will try to predict whether or not a person makes more than $50,000."
   ]
  },
  {
   "cell_type": "markdown",
   "id": "7882adb8",
   "metadata": {},
   "source": [
    "Use the pd.read_csv() function using \"income.csv\" as a parameter and store the result in a variable named income_data. Since the first row of our file contains the names of the columns, we also want to add the argument header = 0."
   ]
  },
  {
   "cell_type": "code",
   "execution_count": 1,
   "id": "cf8b7257",
   "metadata": {},
   "outputs": [],
   "source": [
    "def warn(*args, **kwargs):\n",
    "    pass\n",
    "import warnings\n",
    "warnings.warn = warn\n",
    "\n",
    "import pandas as pd\n",
    "from sklearn.model_selection import train_test_split\n",
    "from sklearn import tree\n",
    "from sklearn.ensemble import RandomForestClassifier"
   ]
  },
  {
   "cell_type": "markdown",
   "id": "fde1b84d",
   "metadata": {},
   "source": [
    "Take a look at one of the rows of the data we’ve imported. Print income_data.iloc[0]"
   ]
  },
  {
   "cell_type": "code",
   "execution_count": 3,
   "id": "d9a356b0",
   "metadata": {},
   "outputs": [
    {
     "name": "stdout",
     "output_type": "stream",
     "text": [
      "age                          39\n",
      "workclass             State-gov\n",
      "fnlwgt                    77516\n",
      "education             Bachelors\n",
      "education-num                13\n",
      "marital-status    Never-married\n",
      "occupation         Adm-clerical\n",
      "relationship      Not-in-family\n",
      "race                      White\n",
      "sex                        Male\n",
      "capital-gain               2174\n",
      "capital-loss                  0\n",
      "hours-per-week               40\n",
      "native-country    United-States\n",
      "income                    <=50K\n",
      "Name: 0, dtype: object\n"
     ]
    }
   ],
   "source": [
    "income_data=pd.read_csv(\"income.csv\", header=0,delimiter = \", \")\n",
    "print(income_data.iloc[0])"
   ]
  },
  {
   "cell_type": "markdown",
   "id": "f07df0b0",
   "metadata": {},
   "source": [
    "Create a variable named labels that contains only the column \"income\" from the income_data DataFrame."
   ]
  },
  {
   "cell_type": "markdown",
   "id": "101f73c2",
   "metadata": {},
   "source": [
    "We’ll also want to pick which columns to use when trying to predict income. For now, let’s select \"age\", \"capital-gain\", \"capital-loss\", \"hours-per-week\", and \"sex\". Create a new variable named data that contains only those columns. The syntax for this is very similar to selecting only one column:"
   ]
  },
  {
   "cell_type": "code",
   "execution_count": 17,
   "id": "d0aa6d3a",
   "metadata": {},
   "outputs": [
    {
     "name": "stdout",
     "output_type": "stream",
     "text": [
      "age                 39\n",
      "capital-gain      2174\n",
      "capital-loss         0\n",
      "hours-per-week      40\n",
      "sex-int              0\n",
      "country-int          0\n",
      "Name: 0, dtype: int64\n"
     ]
    }
   ],
   "source": [
    "labels =income_data[\"income\"]\n",
    "income_data[\"sex-int\"] = income_data[\"sex\"].apply(lambda row: 0 if row == \"Male\" else 1)\n",
    "\n",
    "income_data[\"country-int\"] = income_data[\"native-country\"].apply(lambda row: 0 if row == \"United-States\" else 1)\n",
    "\n",
    "data =income_data[[\"age\", \"capital-gain\", \"capital-loss\", \"hours-per-week\",\"sex-int\",\"country-int\"]]\n",
    "\n",
    "print(data.iloc[0])\n",
    "# print(labels)"
   ]
  },
  {
   "cell_type": "markdown",
   "id": "148e5729",
   "metadata": {},
   "source": [
    "Finally, we want to split our data and labels into a training set and a test set. We’ll use the training set to build the random forest, and the test set to see how accurate it is. Use the train_test_split() function to do this.\n",
    "\n",
    "train_test_split() returns four values — name them train_data, test_data, train_labels, and test_labels. When calling train_test_split(), it should take three arguments — data, labels and random_state = 1."
   ]
  },
  {
   "cell_type": "code",
   "execution_count": 18,
   "id": "e8cb908c",
   "metadata": {},
   "outputs": [],
   "source": [
    "train_data, test_data, train_labels,test_labels= train_test_split(data,labels,random_state = 1)"
   ]
  },
  {
   "cell_type": "markdown",
   "id": "c529cae6",
   "metadata": {},
   "source": [
    "We’re now ready to use this data to build and test our random forest. First, create a RandomForestClassifier and name it forest. When you create the random forest, use the parameter random_state = 1.\n",
    "\n",
    "fit the model\n",
    "\n",
    "score the model"
   ]
  },
  {
   "cell_type": "code",
   "execution_count": 19,
   "id": "d52666fa",
   "metadata": {},
   "outputs": [
    {
     "name": "stdout",
     "output_type": "stream",
     "text": [
      "0.8225033779633951\n"
     ]
    }
   ],
   "source": [
    "forest = RandomForestClassifier(random_state = 1)\n",
    "forest.fit(train_data , train_labels)\n",
    "print(forest.score(test_data,test_labels))"
   ]
  },
  {
   "cell_type": "code",
   "execution_count": null,
   "id": "ed2fb691",
   "metadata": {},
   "outputs": [],
   "source": []
  }
 ],
 "metadata": {
  "kernelspec": {
   "display_name": "Python 3",
   "language": "python",
   "name": "python3"
  },
  "language_info": {
   "codemirror_mode": {
    "name": "ipython",
    "version": 3
   },
   "file_extension": ".py",
   "mimetype": "text/x-python",
   "name": "python",
   "nbconvert_exporter": "python",
   "pygments_lexer": "ipython3",
   "version": "3.9.4"
  }
 },
 "nbformat": 4,
 "nbformat_minor": 5
}
