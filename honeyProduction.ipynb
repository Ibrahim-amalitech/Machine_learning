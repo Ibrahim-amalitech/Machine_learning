{
 "cells": [
  {
   "cell_type": "markdown",
   "id": "73d4c689",
   "metadata": {},
   "source": [
    "# Honey Production"
   ]
  },
  {
   "cell_type": "markdown",
   "id": "cbd0d7a5",
   "metadata": {},
   "source": [
    "As you may have already heard, the honeybees are in a precarious state right now. You may have seen articles about the decline of the honeybee population for various reasons. You want to investigate this decline and how the trends of the past predict the future for the honeybees."
   ]
  },
  {
   "cell_type": "markdown",
   "id": "0e9cdd5b",
   "metadata": {},
   "source": [
    "Use .head() to get a sense of how this DataFrame is structured."
   ]
  },
  {
   "cell_type": "code",
   "execution_count": 1,
   "id": "861a3e24",
   "metadata": {},
   "outputs": [],
   "source": [
    "import pandas as pd\n",
    "import matplotlib.pyplot as plt\n",
    "import numpy as np\n",
    "from sklearn import linear_model"
   ]
  },
  {
   "cell_type": "code",
   "execution_count": 3,
   "id": "8d506290",
   "metadata": {},
   "outputs": [
    {
     "name": "stdout",
     "output_type": "stream",
     "text": [
      "  state    numcol  yieldpercol   totalprod      stocks  priceperlb  \\\n",
      "0    AL   16000.0           71   1136000.0    159000.0        0.72   \n",
      "1    AZ   55000.0           60   3300000.0   1485000.0        0.64   \n",
      "2    AR   53000.0           65   3445000.0   1688000.0        0.59   \n",
      "3    CA  450000.0           83  37350000.0  12326000.0        0.62   \n",
      "4    CO   27000.0           72   1944000.0   1594000.0        0.70   \n",
      "\n",
      "    prodvalue  year  \n",
      "0    818000.0  1998  \n",
      "1   2112000.0  1998  \n",
      "2   2033000.0  1998  \n",
      "3  23157000.0  1998  \n",
      "4   1361000.0  1998  \n"
     ]
    }
   ],
   "source": [
    "df = pd.read_csv(\"honeyproduction.csv\")\n",
    "print(df.head())"
   ]
  },
  {
   "cell_type": "markdown",
   "id": "d284e571",
   "metadata": {},
   "source": [
    "For now, we care about the total production of honey per year. Use the .groupby() method provided by pandas to get the mean of totalprod per year.\n",
    "\n",
    "Store this in a variable called prod_per_year."
   ]
  },
  {
   "cell_type": "code",
   "execution_count": 4,
   "id": "d77dd7b3",
   "metadata": {},
   "outputs": [
    {
     "name": "stdout",
     "output_type": "stream",
     "text": [
      "    year     totalprod\n",
      "0   1998  5.105093e+06\n",
      "1   1999  4.706674e+06\n",
      "2   2000  5.106000e+06\n",
      "3   2001  4.221545e+06\n",
      "4   2002  3.892386e+06\n",
      "5   2003  4.122091e+06\n",
      "6   2004  4.456805e+06\n",
      "7   2005  4.243146e+06\n",
      "8   2006  3.761902e+06\n",
      "9   2007  3.600512e+06\n",
      "10  2008  3.974927e+06\n",
      "11  2009  3.626700e+06\n",
      "12  2010  4.382350e+06\n",
      "13  2011  3.680025e+06\n",
      "14  2012  3.522675e+06\n"
     ]
    }
   ],
   "source": [
    "prod_per_year=df.groupby('year').totalprod.mean().reset_index()\n",
    "print(prod_per_year)"
   ]
  },
  {
   "cell_type": "markdown",
   "id": "b3ca037f",
   "metadata": {},
   "source": [
    "Create a variable called X that is the column of years in this prod_per_year DataFrame.\n",
    "\n",
    "After creating X, we will need to reshape it to get it into the right format, using this command:"
   ]
  },
  {
   "cell_type": "code",
   "execution_count": 5,
   "id": "2d24324d",
   "metadata": {},
   "outputs": [],
   "source": [
    "X = prod_per_year['year']\n",
    "X = X.values.reshape(-1, 1)"
   ]
  },
  {
   "cell_type": "markdown",
   "id": "7e403c37",
   "metadata": {},
   "source": [
    "Create a variable called y that is the totalprod column in the prod_per_year dataset."
   ]
  },
  {
   "cell_type": "code",
   "execution_count": 6,
   "id": "b7619f5d",
   "metadata": {},
   "outputs": [],
   "source": [
    "y=prod_per_year['totalprod']"
   ]
  },
  {
   "cell_type": "markdown",
   "id": "cfc8367f",
   "metadata": {},
   "source": [
    "Using plt.scatter(), plot y vs X as a scatterplot.\n",
    "\n",
    "Display the plot using plt.show().\n",
    "\n",
    "Can you see a vaguely linear relationship between these variables?"
   ]
  },
  {
   "cell_type": "code",
   "execution_count": 7,
   "id": "1fcf235c",
   "metadata": {},
   "outputs": [
    {
     "data": {
      "image/png": "[encoded data removed]",
      "text/plain": [
       "<Figure size 432x288 with 1 Axes>"
      ]
     },
     "metadata": {
      "needs_background": "light"
     },
     "output_type": "display_data"
    }
   ],
   "source": [
    "plt.scatter(X,y)\n",
    "plt.show()"
   ]
  },
  {
   "cell_type": "markdown",
   "id": "f41b334e",
   "metadata": {},
   "source": [
    "Create a linear regression model from scikit-learn and call it regr.\n",
    "\n",
    "Use the LinearRegression() constructor from the linear_model module to do this.\n",
    "\n",
    "Fit the model to the data by using .fit(). You can feed X into your regr model by passing it in as a parameter of .fit()."
   ]
  },
  {
   "cell_type": "code",
   "execution_count": 8,
   "id": "58850e57",
   "metadata": {},
   "outputs": [
    {
     "data": {
      "text/plain": [
       "LinearRegression()"
      ]
     },
     "execution_count": 8,
     "metadata": {},
     "output_type": "execute_result"
    }
   ],
   "source": [
    "regr=linear_model.LinearRegression()\n",
    "regr.fit(X,y)"
   ]
  },
  {
   "cell_type": "markdown",
   "id": "90d49e11",
   "metadata": {},
   "source": [
    "After you have fit the model, print out the slope of the line (stored in a list called regr.coef_) and the intercept of the line (regr.intercept_)."
   ]
  },
  {
   "cell_type": "code",
   "execution_count": 9,
   "id": "e0c97c54",
   "metadata": {},
   "outputs": [
    {
     "name": "stdout",
     "output_type": "stream",
     "text": [
      "[array([-88303.18915238]), 181208083.1073298]\n"
     ]
    }
   ],
   "source": [
    "print([regr.coef_,regr.intercept_])"
   ]
  },
  {
   "cell_type": "markdown",
   "id": "738ad703",
   "metadata": {},
   "source": [
    "Create a list called y_predict that is the predictions your regr model would make on the X data."
   ]
  },
  {
   "cell_type": "code",
   "execution_count": 11,
   "id": "b1761c87",
   "metadata": {},
   "outputs": [],
   "source": [
    "y_predict =regr.predict(X)"
   ]
  },
  {
   "cell_type": "markdown",
   "id": "fe28371d",
   "metadata": {},
   "source": [
    "Plot y_predict vs X as a line, on top of your scatterplot using plt.plot().\n",
    "\n",
    "Make sure to call plt.show() after plotting the line."
   ]
  },
  {
   "cell_type": "code",
   "execution_count": 13,
   "id": "6697d269",
   "metadata": {},
   "outputs": [
    {
     "data": {
      "image/png": "[encoded data removed]",
      "text/plain": [
       "<Figure size 432x288 with 1 Axes>"
      ]
     },
     "metadata": {
      "needs_background": "light"
     },
     "output_type": "display_data"
    }
   ],
   "source": [
    "plt.plot(X,y_predict)\n",
    "plt.show()"
   ]
  },
  {
   "cell_type": "markdown",
   "id": "c022e4f7",
   "metadata": {},
   "source": [
    "So, it looks like the production of honey has been in decline, according to this linear model. Let’s predict what the year 2050 may look like in terms of honey production.\n",
    "\n",
    "Our known dataset stops at the year 2013, so let’s create a NumPy array called X_future that is the range from 2013 to 2050. \n",
    "After creating that array, we need to reshape it for scikit-learn."
   ]
  },
  {
   "cell_type": "code",
   "execution_count": 14,
   "id": "ff7e3031",
   "metadata": {},
   "outputs": [
    {
     "name": "stdout",
     "output_type": "stream",
     "text": [
      "[[2013]\n",
      " [2014]\n",
      " [2015]\n",
      " [2016]\n",
      " [2017]\n",
      " [2018]\n",
      " [2019]\n",
      " [2020]\n",
      " [2021]\n",
      " [2022]\n",
      " [2023]\n",
      " [2024]\n",
      " [2025]\n",
      " [2026]\n",
      " [2027]\n",
      " [2028]\n",
      " [2029]\n",
      " [2030]\n",
      " [2031]\n",
      " [2032]\n",
      " [2033]\n",
      " [2034]\n",
      " [2035]\n",
      " [2036]\n",
      " [2037]\n",
      " [2038]\n",
      " [2039]\n",
      " [2040]\n",
      " [2041]\n",
      " [2042]\n",
      " [2043]\n",
      " [2044]\n",
      " [2045]\n",
      " [2046]\n",
      " [2047]\n",
      " [2048]\n",
      " [2049]\n",
      " [2050]]\n"
     ]
    }
   ],
   "source": [
    "X_future=np.array(range(2013,2051))\n",
    "X_future = X_future.reshape(-1, 1)\n",
    "print(X_future)"
   ]
  },
  {
   "cell_type": "markdown",
   "id": "2cf78e9c",
   "metadata": {},
   "source": [
    "Create a list called future_predict that is the y-values that your regr model would predict for the values of X_future."
   ]
  },
  {
   "cell_type": "code",
   "execution_count": 15,
   "id": "95eb355c",
   "metadata": {},
   "outputs": [],
   "source": [
    "future_predict=regr.predict(X_future)"
   ]
  },
  {
   "cell_type": "markdown",
   "id": "0d4cb1d8",
   "metadata": {},
   "source": [
    "Plot future_predict vs X_future on a different plot.\n",
    "\n",
    "How much honey will be produced in the year 2050, according to this?"
   ]
  },
  {
   "cell_type": "code",
   "execution_count": 17,
   "id": "e99d8f79",
   "metadata": {},
   "outputs": [
    {
     "data": {
      "image/png": "[encoded data removed]",
      "text/plain": [
       "<Figure size 432x288 with 1 Axes>"
      ]
     },
     "metadata": {
      "needs_background": "light"
     },
     "output_type": "display_data"
    }
   ],
   "source": [
    "plt.plot(X_future,future_predict)\n",
    "plt.scatter(X,y)\n",
    "plt.show()"
   ]
  },
  {
   "cell_type": "code",
   "execution_count": null,
   "id": "ad5dd858",
   "metadata": {},
   "outputs": [],
   "source": []
  }
 ],
 "metadata": {
  "kernelspec": {
   "display_name": "Python 3",
   "language": "python",
   "name": "python3"
  },
  "language_info": {
   "codemirror_mode": {
    "name": "ipython",
    "version": 3
   },
   "file_extension": ".py",
   "mimetype": "text/x-python",
   "name": "python",
   "nbconvert_exporter": "python",
   "pygments_lexer": "ipython3",
   "version": "3.9.4"
  }
 },
 "nbformat": 4,
 "nbformat_minor": 5
}
