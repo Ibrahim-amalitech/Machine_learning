{
 "cells": [
  {
   "cell_type": "markdown",
   "id": "d4b41efb",
   "metadata": {},
   "source": [
    "The U.S. Postal Service has been using machine learning and scanning technologies since 1999. Because its postal offices have to look at roughly half a billion pieces of mail every day, they have done extensive research and developed very efficient algorithms for reading and understanding addresses. And not only the post office:\n",
    "\n",
    "ATMs can recognize handwritten bank checks\n",
    "Evernote can recognize handwritten task lists\n",
    "Expensify can recognize handwritten receipts\n",
    "But how do they do it?\n",
    "\n",
    "In this project, you will be using K-means clustering (the algorithm behind this magic) and scikit-learn to cluster images of handwritten digits."
   ]
  },
  {
   "cell_type": "markdown",
   "id": "8b9b3cfa",
   "metadata": {},
   "source": [
    "# Handwriting Recognition using K-Means"
   ]
  },
  {
   "cell_type": "markdown",
   "id": "e5ef7ffd",
   "metadata": {},
   "source": [
    "From sklearn library, import the datasets module.\n",
    "\n",
    "Then, load in the digits data using .load_digits() and print digits.\n",
    "\n",
    "inspect the data"
   ]
  },
  {
   "cell_type": "code",
   "execution_count": 2,
   "id": "7854339f",
   "metadata": {},
   "outputs": [
    {
     "name": "stdout",
     "output_type": "stream",
     "text": [
      ".. _digits_dataset:\n",
      "\n",
      "Optical recognition of handwritten digits dataset\n",
      "--------------------------------------------------\n",
      "\n",
      "**Data Set Characteristics:**\n",
      "\n",
      "    :Number of Instances: 1797\n",
      "    :Number of Attributes: 64\n",
      "    :Attribute Information: 8x8 image of integer pixels in the range 0..16.\n",
      "    :Missing Attribute Values: None\n",
      "    :Creator: E. Alpaydin (alpaydin '@' boun.edu.tr)\n",
      "    :Date: July; 1998\n",
      "\n",
      "This is a copy of the test set of the UCI ML hand-written digits datasets\n",
      "https://archive.ics.uci.edu/ml/datasets/Optical+Recognition+of+Handwritten+Digits\n",
      "\n",
      "The data set contains images of hand-written digits: 10 classes where\n",
      "each class refers to a digit.\n",
      "\n",
      "Preprocessing programs made available by NIST were used to extract\n",
      "normalized bitmaps of handwritten digits from a preprinted form. From a\n",
      "total of 43 people, 30 contributed to the training set and different 13\n",
      "to the test set. 32x32 bitmaps are divided into nonoverlapping blocks of\n",
      "4x4 and the number of on pixels are counted in each block. This generates\n",
      "an input matrix of 8x8 where each element is an integer in the range\n",
      "0..16. This reduces dimensionality and gives invariance to small\n",
      "distortions.\n",
      "\n",
      "For info on NIST preprocessing routines, see M. D. Garris, J. L. Blue, G.\n",
      "T. Candela, D. L. Dimmick, J. Geist, P. J. Grother, S. A. Janet, and C.\n",
      "L. Wilson, NIST Form-Based Handprint Recognition System, NISTIR 5469,\n",
      "1994.\n",
      "\n",
      ".. topic:: References\n",
      "\n",
      "  - C. Kaynak (1995) Methods of Combining Multiple Classifiers and Their\n",
      "    Applications to Handwritten Digit Recognition, MSc Thesis, Institute of\n",
      "    Graduate Studies in Science and Engineering, Bogazici University.\n",
      "  - E. Alpaydin, C. Kaynak (1998) Cascading Classifiers, Kybernetika.\n",
      "  - Ken Tang and Ponnuthurai N. Suganthan and Xi Yao and A. Kai Qin.\n",
      "    Linear dimensionalityreduction using relevance weighted LDA. School of\n",
      "    Electrical and Electronic Engineering Nanyang Technological University.\n",
      "    2005.\n",
      "  - Claudio Gentile. A New Approximate Maximal Margin Classification\n",
      "    Algorithm. NIPS. 2000.\n",
      "\n",
      "[[ 0.  0.  5. ...  0.  0.  0.]\n",
      " [ 0.  0.  0. ... 10.  0.  0.]\n",
      " [ 0.  0.  0. ... 16.  9.  0.]\n",
      " ...\n",
      " [ 0.  0.  1. ...  6.  0.  0.]\n",
      " [ 0.  0.  2. ... 12.  0.  0.]\n",
      " [ 0.  0. 10. ... 12.  1.  0.]]\n",
      "[0 1 2 ... 8 9 8]\n"
     ]
    }
   ],
   "source": [
    "import numpy as np\n",
    "from matplotlib import pyplot as plt\n",
    "from sklearn import datasets\n",
    "from sklearn.cluster import KMeans\n",
    "\n",
    "digits=datasets.load_digits()\n",
    "print(digits.DESCR)\n",
    "print(digits.data)\n",
    "print(digits.target)"
   ]
  },
  {
   "cell_type": "markdown",
   "id": "4cd1b24c",
   "metadata": {},
   "source": [
    "To visualize the data images, we need to use Matplotlib. Let’s visualize the image at index 100:"
   ]
  },
  {
   "cell_type": "code",
   "execution_count": 3,
   "id": "4d90afc6",
   "metadata": {},
   "outputs": [
    {
     "data": {
      "text/plain": [
       "<Figure size 432x288 with 0 Axes>"
      ]
     },
     "metadata": {},
     "output_type": "display_data"
    },
    {
     "data": {
      "image/png": "[encoded data removed]",
      "text/plain": [
       "<Figure size 288x288 with 1 Axes>"
      ]
     },
     "metadata": {
      "needs_background": "light"
     },
     "output_type": "display_data"
    }
   ],
   "source": [
    "plt.gray() \n",
    "plt.matshow(digits.images[100])\n",
    " \n",
    "plt.show()"
   ]
  },
  {
   "cell_type": "markdown",
   "id": "41c5f5ff",
   "metadata": {},
   "source": [
    "Is it a 4? Let’s print out the target label at index 100 to find out!"
   ]
  },
  {
   "cell_type": "code",
   "execution_count": 4,
   "id": "2c8b3c62",
   "metadata": {},
   "outputs": [
    {
     "name": "stdout",
     "output_type": "stream",
     "text": [
      "4\n"
     ]
    }
   ],
   "source": [
    "print(digits.target[100])"
   ]
  },
  {
   "cell_type": "markdown",
   "id": "6b751c25",
   "metadata": {},
   "source": [
    "Now we understand what we are working with. Let’s cluster the 1797 different digit images into groups.\n",
    "\n",
    "Import KMeans from sklearn.cluster\n",
    "\n",
    "Use the .fit() method to fit the digits.data to the model."
   ]
  },
  {
   "cell_type": "code",
   "execution_count": 5,
   "id": "723b6848",
   "metadata": {},
   "outputs": [
    {
     "data": {
      "text/plain": [
       "KMeans(n_clusters=10, random_state=42)"
      ]
     },
     "execution_count": 5,
     "metadata": {},
     "output_type": "execute_result"
    }
   ],
   "source": [
    "model=KMeans(n_clusters=10,random_state=42)\n",
    "model.fit(digits.data)"
   ]
  },
  {
   "cell_type": "markdown",
   "id": "1eb2c8be",
   "metadata": {},
   "source": [
    "Let’s visualize all the centroids! Because data samples live in a 64-dimensional space, the centroids have values so they can be images!"
   ]
  },
  {
   "cell_type": "code",
   "execution_count": 7,
   "id": "ea2c28a0",
   "metadata": {},
   "outputs": [
    {
     "data": {
      "text/plain": [
       "<function matplotlib.pyplot.show(close=None, block=None)>"
      ]
     },
     "execution_count": 7,
     "metadata": {},
     "output_type": "execute_result"
    },
    {
     "data": {
      "image/png": "[encoded data removed]",
      "text/plain": [
       "<Figure size 576x216 with 10 Axes>"
      ]
     },
     "metadata": {
      "needs_background": "light"
     },
     "output_type": "display_data"
    }
   ],
   "source": [
    "fig=plt.figure(figsize=(8,3))\n",
    "fig.suptitle('Cluser Center Images', fontsize=14, fontweight='bold')\n",
    "\n",
    "for i in range(10):\n",
    "  ax = fig.add_subplot(2, 5, 1 + i)\n",
    "  ax.imshow(model.cluster_centers_[i].reshape((8, 8)), cmap=plt.cm.binary)\n",
    "plt.show"
   ]
  },
  {
   "cell_type": "markdown",
   "id": "375a1710",
   "metadata": {},
   "source": [
    "Back in script.py, create a new variable named new_samples\n",
    "Use the .predict() function to predict new labels for these four new digits. Store those predictions in a variable named new_labels.\n",
    "\n",
    "But wait, because this is a clustering algorithm, we don’t know which label is which.By looking at the cluster centers, let’s map out each of the labels with the digits we think it represents:"
   ]
  },
  {
   "cell_type": "code",
   "execution_count": 8,
   "id": "d0376cf3",
   "metadata": {},
   "outputs": [
    {
     "name": "stdout",
     "output_type": "stream",
     "text": [
      "8450"
     ]
    }
   ],
   "source": [
    "new_samples=np.array([\n",
    "[0.00,0.08,3.66,6.02,4.50,0.00,0.00,0.00,0.00,1.29,7.62,6.63,7.62,1.30,0.00,0.00,0.00,0.00,1.30,2.29,7.62,1.53,0.00,0.00,0.00,0.00,0.00,4.57,7.47,0.69,0.00,0.00,0.00,0.00,3.12,7.63,4.35,0.00,0.00,0.00,0.00,4.42,7.63,7.62,5.03,1.37,0.00,0.00,0.00,5.49,6.10,6.10,6.10,2.14,0.00,0.00,0.00,0.00,0.00,0.00,0.00,0.00,0.00,0.00],\n",
    "[0.00,0.00,0.08,3.51,3.58,0.69,0.00,0.00,0.00,1.38,6.79,7.62,7.62,6.48,0.61,0.00,0.00,4.96,7.24,2.59,2.51,7.63,3.89,0.00,0.00,5.34,6.10,0.00,0.00,6.25,5.34,0.00,0.00,5.34,6.48,0.08,1.15,7.39,4.42,0.00,0.00,3.90,7.62,6.56,6.86,7.09,0.99,0.00,0.00,0.00,3.06,5.11,5.26,1.98,0.00,0.00,0.00,0.00,0.00,0.00,0.00,0.00,0.00,0.00],\n",
    "[0.00,0.00,0.08,2.67,5.64,2.14,0.00,0.00,0.00,1.29,5.95,7.62,6.56,1.37,0.00,0.00,0.99,7.17,7.17,2.98,0.08,0.00,0.00,0.00,4.65,7.62,6.25,4.73,2.29,0.00,0.00,0.00,5.34,7.09,5.57,7.02,7.55,3.74,0.00,0.00,4.27,7.55,2.14,0.23,5.87,6.79,0.00,0.00,0.53,6.48,7.47,4.96,6.48,6.63,0.00,0.00,0.00,0.69,4.73,6.10,6.10,2.14,0.00,0.00],\n",
    "[0.00,0.00,0.00,0.15,0.53,0.00,0.00,0.00,0.00,0.00,1.53,6.40,7.47,6.63,3.59,0.00,0.00,0.31,7.09,6.94,3.51,5.95,7.62,0.77,0.00,2.13,7.62,2.14,0.00,1.75,7.62,2.22,0.00,2.29,7.62,1.53,0.00,2.06,7.62,1.99,0.00,2.29,7.62,3.51,1.52,3.96,7.62,1.00,0.00,0.61,6.55,7.62,7.62,7.62,6.79,0.23,0.00,0.00,0.08,1.45,1.52,1.52,0.46,0.00]\n",
    "])\n",
    "\n",
    "\n",
    "new_labels=model.predict(new_samples)\n",
    "\n",
    "for i in range(len(new_labels)):\n",
    "  if new_labels[i] == 0:\n",
    "    print(0, end='')\n",
    "  elif new_labels[i] == 1:\n",
    "    print(9, end='')\n",
    "  elif new_labels[i] == 2:\n",
    "    print(2, end='')\n",
    "  elif new_labels[i] == 3:\n",
    "    print(1, end='')\n",
    "  elif new_labels[i] == 4:\n",
    "    print(6, end='')\n",
    "  elif new_labels[i] == 5:\n",
    "    print(8, end='')\n",
    "  elif new_labels[i] == 6:\n",
    "    print(4, end='')\n",
    "  elif new_labels[i] == 7:\n",
    "    print(5, end='')\n",
    "  elif new_labels[i] == 8:\n",
    "    print(7, end='')\n",
    "  elif new_labels[i] == 9:\n",
    "    print(3, end='')"
   ]
  },
  {
   "cell_type": "code",
   "execution_count": null,
   "id": "93c01b43",
   "metadata": {},
   "outputs": [],
   "source": []
  }
 ],
 "metadata": {
  "kernelspec": {
   "display_name": "Python 3",
   "language": "python",
   "name": "python3"
  },
  "language_info": {
   "codemirror_mode": {
    "name": "ipython",
    "version": 3
   },
   "file_extension": ".py",
   "mimetype": "text/x-python",
   "name": "python",
   "nbconvert_exporter": "python",
   "pygments_lexer": "ipython3",
   "version": "3.9.4"
  }
 },
 "nbformat": 4,
 "nbformat_minor": 5
}
