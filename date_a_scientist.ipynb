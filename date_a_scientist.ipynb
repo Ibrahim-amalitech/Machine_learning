{
 "cells": [
  {
   "cell_type": "markdown",
   "id": "ea4eec3b",
   "metadata": {},
   "source": [
    "# DATE A SCIENTIST"
   ]
  },
  {
   "cell_type": "markdown",
   "id": "a8baa8d5",
   "metadata": {},
   "source": [
    "In recent years, there has been a massive rise in the usage of dating apps to find love. Many of these apps use sophisticated data science techniques to recommend possible matches to users and to optimize the user experience. These apps give us access to a wealth of information that we've never had before about how different people experience romance.\n",
    "In this capstone, you will analyze some data from OKCupid, an app that focuses on using multiple choice and short answers to match users.\n"
   ]
  },
  {
   "cell_type": "markdown",
   "id": "c2816cd2",
   "metadata": {},
   "source": [
    "The data is stored in **profiles.csv**. We can start to work with it in **dating.py** by using Pandas, which we have imported for you with the line:"
   ]
  },
  {
   "cell_type": "code",
   "execution_count": 49,
   "id": "930dc51b",
   "metadata": {},
   "outputs": [],
   "source": [
    "import pandas as pd\n",
    "import numpy as np\n",
    "from matplotlib import pyplot as plt\n",
    "\n",
    "df = pd.read_csv(\"profiles.csv\")"
   ]
  },
  {
   "cell_type": "markdown",
   "id": "480dbcb3",
   "metadata": {},
   "source": [
    "                                          Inspect the data"
   ]
  },
  {
   "cell_type": "markdown",
   "id": "a22dc660",
   "metadata": {},
   "source": [
    "Let's make sure we understand what these columns represent!\n",
    "Pick some columns and call `.head()` on them to see the first five rows of data. For example, we were curious about `job`, so we called:"
   ]
  },
  {
   "cell_type": "code",
   "execution_count": 50,
   "id": "20992401",
   "metadata": {},
   "outputs": [
    {
     "name": "stdout",
     "output_type": "stream",
     "text": [
      "Index(['age', 'body_type', 'diet', 'drinks', 'drugs', 'education', 'essay0',\n",
      "       'essay1', 'essay2', 'essay3', 'essay4', 'essay5', 'essay6', 'essay7',\n",
      "       'essay8', 'essay9', 'ethnicity', 'height', 'income', 'job',\n",
      "       'last_online', 'location', 'offspring', 'orientation', 'pets',\n",
      "       'religion', 'sex', 'sign', 'smokes', 'speaks', 'status'],\n",
      "      dtype='object')\n",
      "0                 transportation\n",
      "1           hospitality / travel\n",
      "2                            NaN\n",
      "3                        student\n",
      "4    artistic / musical / writer\n",
      "Name: job, dtype: object\n"
     ]
    }
   ],
   "source": [
    "print(df.columns)\n",
    "print(df.job.head())"
   ]
  },
  {
   "cell_type": "code",
   "execution_count": 51,
   "id": "c8a57192",
   "metadata": {},
   "outputs": [
    {
     "data": {
      "text/plain": [
       "graduated from college/university    23959\n",
       "graduated from masters program        8961\n",
       "working on college/university         5712\n",
       "working on masters program            1683\n",
       "graduated from two-year college       1531\n",
       "graduated from high school            1428\n",
       "graduated from ph.d program           1272\n",
       "graduated from law school             1122\n",
       "working on two-year college           1074\n",
       "dropped out of college/university      995\n",
       "working on ph.d program                983\n",
       "college/university                     801\n",
       "graduated from space camp              657\n",
       "dropped out of space camp              523\n",
       "graduated from med school              446\n",
       "working on space camp                  445\n",
       "working on law school                  269\n",
       "two-year college                       222\n",
       "working on med school                  212\n",
       "dropped out of two-year college        191\n",
       "dropped out of masters program         140\n",
       "masters program                        136\n",
       "dropped out of ph.d program            127\n",
       "dropped out of high school             102\n",
       "high school                             96\n",
       "working on high school                  87\n",
       "space camp                              58\n",
       "ph.d program                            26\n",
       "law school                              19\n",
       "dropped out of law school               18\n",
       "dropped out of med school               12\n",
       "med school                              11\n",
       "Name: education, dtype: int64"
      ]
     },
     "execution_count": 51,
     "metadata": {},
     "output_type": "execute_result"
    }
   ],
   "source": [
    "df.education.value_counts()"
   ]
  },
  {
   "cell_type": "markdown",
   "id": "38a155d2",
   "metadata": {},
   "source": [
    "                                   Visualize some of the Data"
   ]
  },
  {
   "cell_type": "markdown",
   "id": "6914a040",
   "metadata": {},
   "source": [
    "For example, we were curious about the distribution of ages on the site, so we made a histogram of the `age` column:"
   ]
  },
  {
   "cell_type": "code",
   "execution_count": 52,
   "id": "58afbd3a",
   "metadata": {},
   "outputs": [
    {
     "data": {
      "image/png": "[encoded data removed]",
      "text/plain": [
       "<Figure size 432x288 with 1 Axes>"
      ]
     },
     "metadata": {
      "needs_background": "light"
     },
     "output_type": "display_data"
    }
   ],
   "source": [
    "plt.hist(df.age, bins=20)\n",
    "plt.xlabel(\"Age\")\n",
    "plt.ylabel(\"Frequency\")\n",
    "plt.xlim(16, 80)\n",
    "plt.show()"
   ]
  },
  {
   "cell_type": "markdown",
   "id": "7b62b151",
   "metadata": {},
   "source": [
    "what about religion and income distribution on the site"
   ]
  },
  {
   "cell_type": "code",
   "execution_count": 53,
   "id": "4169033a",
   "metadata": {},
   "outputs": [
    {
     "data": {
      "image/png": "[encoded data removed]",
      "text/plain": [
       "<Figure size 432x288 with 1 Axes>"
      ]
     },
     "metadata": {
      "needs_background": "light"
     },
     "output_type": "display_data"
    }
   ],
   "source": [
    "plt.hist(df.income, bins=10)\n",
    "plt.xlabel(\"Income\")\n",
    "plt.ylabel(\"Frequency\")\n",
    "plt.xlim(-1, 1100000)\n",
    "plt.show()"
   ]
  },
  {
   "cell_type": "markdown",
   "id": "091317b8",
   "metadata": {},
   "source": [
    "we can see that a few most of the income distribution is limited to not greater than 200000. lets zoom into that area"
   ]
  },
  {
   "cell_type": "code",
   "execution_count": 54,
   "id": "f3a4aa99",
   "metadata": {},
   "outputs": [
    {
     "data": {
      "image/png": "[encoded data removed]",
      "text/plain": [
       "<Figure size 432x288 with 1 Axes>"
      ]
     },
     "metadata": {
      "needs_background": "light"
     },
     "output_type": "display_data"
    }
   ],
   "source": [
    "plt.hist(df.income, bins=10)\n",
    "plt.xlabel(\"Income\")\n",
    "plt.ylabel(\"Frequency\")\n",
    "plt.xlim(-1, 250000)\n",
    "plt.show()"
   ]
  },
  {
   "cell_type": "markdown",
   "id": "fb414020",
   "metadata": {},
   "source": [
    "                                                 Formulate a Question"
   ]
  },
  {
   "cell_type": "markdown",
   "id": "e9ff1900",
   "metadata": {},
   "source": [
    "As we started to look at this data, we started to get more and more curious about Zodiac signs. First, we looked at all of the possible values for Zodiac signs:\n",
    "```\n",
    "df.sign.value_counts()\n",
    "```\n",
    "We started to wonder if there was a way to predict a user's Zodiac sign from the information in their profile. Thinking about the columns we had already explored, we thought that maybe we could classify Zodiac signs using drinking, smoking, drugs, and essays as our features."
   ]
  },
  {
   "cell_type": "code",
   "execution_count": 55,
   "id": "307fe1a7",
   "metadata": {},
   "outputs": [
    {
     "data": {
      "text/plain": [
       "gemini and it&rsquo;s fun to think about         1782\n",
       "scorpio and it&rsquo;s fun to think about        1772\n",
       "leo and it&rsquo;s fun to think about            1692\n",
       "libra and it&rsquo;s fun to think about          1649\n",
       "taurus and it&rsquo;s fun to think about         1640\n",
       "cancer and it&rsquo;s fun to think about         1597\n",
       "pisces and it&rsquo;s fun to think about         1592\n",
       "sagittarius and it&rsquo;s fun to think about    1583\n",
       "virgo and it&rsquo;s fun to think about          1574\n",
       "aries and it&rsquo;s fun to think about          1573\n",
       "aquarius and it&rsquo;s fun to think about       1503\n",
       "virgo but it doesn&rsquo;t matter                1497\n",
       "leo but it doesn&rsquo;t matter                  1457\n",
       "cancer but it doesn&rsquo;t matter               1454\n",
       "gemini but it doesn&rsquo;t matter               1453\n",
       "taurus but it doesn&rsquo;t matter               1450\n",
       "libra but it doesn&rsquo;t matter                1408\n",
       "aquarius but it doesn&rsquo;t matter             1408\n",
       "capricorn and it&rsquo;s fun to think about      1376\n",
       "sagittarius but it doesn&rsquo;t matter          1375\n",
       "aries but it doesn&rsquo;t matter                1373\n",
       "capricorn but it doesn&rsquo;t matter            1319\n",
       "pisces but it doesn&rsquo;t matter               1300\n",
       "scorpio but it doesn&rsquo;t matter              1264\n",
       "leo                                              1159\n",
       "libra                                            1098\n",
       "cancer                                           1092\n",
       "virgo                                            1029\n",
       "scorpio                                          1020\n",
       "gemini                                           1013\n",
       "taurus                                           1001\n",
       "aries                                             996\n",
       "pisces                                            992\n",
       "aquarius                                          954\n",
       "sagittarius                                       937\n",
       "capricorn                                         833\n",
       "scorpio and it matters a lot                       78\n",
       "leo and it matters a lot                           66\n",
       "cancer and it matters a lot                        63\n",
       "aquarius and it matters a lot                      63\n",
       "pisces and it matters a lot                        62\n",
       "gemini and it matters a lot                        62\n",
       "libra and it matters a lot                         52\n",
       "taurus and it matters a lot                        49\n",
       "sagittarius and it matters a lot                   47\n",
       "aries and it matters a lot                         47\n",
       "capricorn and it matters a lot                     45\n",
       "virgo and it matters a lot                         41\n",
       "Name: sign, dtype: int64"
      ]
     },
     "execution_count": 55,
     "metadata": {},
     "output_type": "execute_result"
    }
   ],
   "source": [
    "df.sign.value_counts()"
   ]
  },
  {
   "cell_type": "markdown",
   "id": "7037c4fd",
   "metadata": {},
   "source": [
    "                                              Augment your Data"
   ]
  },
  {
   "cell_type": "markdown",
   "id": "45acb620",
   "metadata": {},
   "source": [
    "In order to answer the question you've formulated, you will probably need to create some new columns in the DataFrame. This is especially true because so much of our data here is categorical (i.e. `diet` consists of the options `vegan`, `vegetarian`, `anything`, etc. instead of numerical values).\n",
    "\n",
    "Categorical data is great to use as labels, but we want to create some numerical data as well to use for features.\n",
    "\n",
    "For our question about Zodiac signs, we wanted to transform the `drinks` column into numerical data. We use:\n"
   ]
  },
  {
   "cell_type": "code",
   "execution_count": 56,
   "id": "e7992c22",
   "metadata": {},
   "outputs": [],
   "source": [
    "drink_mapping = {\"not at all\": 0, \"rarely\": 1, \"socially\": 2, \"often\": 3, \"very often\": 4, \"desperately\": 5}\n",
    "\n",
    "df[\"drinks_code\"] = df.drinks.map(drink_mapping)\n",
    "\n",
    "\n",
    "#We do same for `smokes` and `drugs`\n",
    "smoke_mapping = {\"no\": 0, \"trying to quit\": 1, \"sometimes\": 2, \"when drinking\": 3, \"yes\": 4}\n",
    "drugs_mapping = {\"never\": 0, \"sometimes\": 1, \"often\": 2}\n",
    "df[\"smokes_code\"] = df.smokes.map(smoke_mapping)\n",
    "df[\"drugs_code\"] = df.drugs.map(drugs_mapping)"
   ]
  },
  {
   "cell_type": "markdown",
   "id": "76f8ade3",
   "metadata": {},
   "source": [
    "We also wanted some numerical data about the short answer essays. We combined them all into one string, took out the `NaN`s, and then created a new column called `essay_len`"
   ]
  },
  {
   "cell_type": "code",
   "execution_count": 57,
   "id": "13f09fb7",
   "metadata": {},
   "outputs": [],
   "source": [
    "essay_cols = [\"essay0\",\"essay1\",\"essay2\",\"essay3\",\"essay4\",\"essay5\",\"essay6\",\"essay7\",\"essay8\",\"essay9\"]\n",
    "\n",
    "\n",
    "# Removing the NaNs\n",
    "all_essays = df[essay_cols].replace(np.nan, '', regex=True)\n",
    "# Combining the essays\n",
    "all_essays = all_essays[essay_cols].apply(lambda x: ' '.join(x), axis=1)\n",
    "\n",
    "\n",
    "df[\"essay_len\"] = all_essays.apply(lambda x: len(x))\n"
   ]
  },
  {
   "cell_type": "markdown",
   "id": "02c24ff9",
   "metadata": {},
   "source": [
    "verify if the edits worked"
   ]
  },
  {
   "cell_type": "code",
   "execution_count": 58,
   "id": "9e9c95d8",
   "metadata": {},
   "outputs": [
    {
     "name": "stdout",
     "output_type": "stream",
     "text": [
      "[ 2.  3.  0.  1. nan  4.  5.]\n",
      "[ 2.  0. nan  3.  4.  1.]\n",
      "[ 0.  1. nan  2.]\n",
      "[ 2644  1453  5517 ... 19541  4567  6263]\n"
     ]
    }
   ],
   "source": [
    "print(df.drinks_code.unique())\n",
    "print(df.smokes_code.unique())\n",
    "print(df.drugs_code.unique())\n",
    "print(df.essay_len.unique())"
   ]
  },
  {
   "cell_type": "markdown",
   "id": "037f5ae2",
   "metadata": {},
   "source": [
    "lets take care of the null values"
   ]
  },
  {
   "cell_type": "code",
   "execution_count": 59,
   "id": "b342c309",
   "metadata": {},
   "outputs": [
    {
     "data": {
      "text/plain": [
       "age            False\n",
       "body_type       True\n",
       "diet            True\n",
       "drinks          True\n",
       "drugs           True\n",
       "education       True\n",
       "essay0          True\n",
       "essay1          True\n",
       "essay2          True\n",
       "essay3          True\n",
       "essay4          True\n",
       "essay5          True\n",
       "essay6          True\n",
       "essay7          True\n",
       "essay8          True\n",
       "essay9          True\n",
       "ethnicity       True\n",
       "height          True\n",
       "income         False\n",
       "job             True\n",
       "last_online    False\n",
       "location       False\n",
       "offspring       True\n",
       "orientation    False\n",
       "pets            True\n",
       "religion        True\n",
       "sex            False\n",
       "sign            True\n",
       "smokes          True\n",
       "speaks          True\n",
       "status         False\n",
       "drinks_code    False\n",
       "smokes_code    False\n",
       "drugs_code     False\n",
       "essay_len      False\n",
       "dtype: bool"
      ]
     },
     "execution_count": 59,
     "metadata": {},
     "output_type": "execute_result"
    }
   ],
   "source": [
    "df.fillna({'drinks_code':6,\n",
    "           'smokes_code':5,\n",
    "           'drugs_code':3},\n",
    "          inplace=True)\n",
    "\n",
    "# df.fillna({'drinks_code':-1,\n",
    "#            'smokes_code':-1,\n",
    "#            'drugs_code':-1},\n",
    "#           inplace=True)\n",
    "\n",
    "df.isna().any()\n",
    "\n",
    "\n",
    "#df=df.dropna(0,how=\"any\")\n",
    "\n",
    "#print(len(df))"
   ]
  },
  {
   "cell_type": "markdown",
   "id": "2b76f819",
   "metadata": {},
   "source": [
    "As we can see our features have been rid of null nalues"
   ]
  },
  {
   "cell_type": "markdown",
   "id": "e106a653",
   "metadata": {},
   "source": [
    "                                       Normalize your Data!"
   ]
  },
  {
   "cell_type": "markdown",
   "id": "3d9e70c0",
   "metadata": {},
   "source": [
    "In order to get accurate results, we should make sure our numerical data all has the same weight.\n",
    "For our Zodiac features, we use:"
   ]
  },
  {
   "cell_type": "code",
   "execution_count": 46,
   "id": "951a3d66",
   "metadata": {},
   "outputs": [],
   "source": [
    "from sklearn import preprocessing\n",
    "\n",
    "feature_data = df[['smokes_code', 'drinks_code', 'drugs_code', 'essay_len']]\n",
    "\n",
    "x = feature_data.values\n",
    "min_max_scaler = preprocessing.MinMaxScaler()\n",
    "x_scaled = min_max_scaler.fit_transform(x)\n",
    "\n",
    "\n",
    "feature_data = pd.DataFrame(x_scaled, columns=feature_data.columns)\n",
    "\n"
   ]
  },
  {
   "cell_type": "markdown",
   "id": "dca2a4e3",
   "metadata": {},
   "source": [
    "                                     Use Classification Techniques"
   ]
  },
  {
   "cell_type": "markdown",
   "id": "d183d2ff",
   "metadata": {},
   "source": [
    "We have learned how to perform classification in a few different ways.\n",
    "\n",
    "\n",
    "- We learned about K-Nearest Neighbors by exploring IMDB ratings of popular movies \n",
    "- We learned about Support Vector Machines by exploring baseball statistics\n",
    "- We learned about Naive Bayes by exploring Amazon Reviews\n",
    "\n",
    "\n",
    "Some questions we used classification to tackle were:\n",
    "\n",
    "\n",
    "- Can we predict sex with education level and income??\n",
    "- Can we predict education level with essay text word counts?"
   ]
  },
  {
   "cell_type": "code",
   "execution_count": 47,
   "id": "0cdebede",
   "metadata": {},
   "outputs": [
    {
     "name": "stdout",
     "output_type": "stream",
     "text": [
      "0.5390325271059216\n",
      "[[2, 0.48407005838198497]]\n"
     ]
    }
   ],
   "source": [
    "from sklearn.neighbors import KNeighborsClassifier \n",
    "\n",
    "from sklearn.model_selection import train_test_split\n",
    "\n",
    "labels1=df.sex\n",
    "labels2=df.education\n",
    "\n",
    "train_data, val_data, train_labels, val_labels=train_test_split (feature_data,labels1,test_size=0.2,random_state =100)\n",
    "\n",
    "classifier=KNeighborsClassifier(n_neighbors = 3)\n",
    "classifier.fit(train_data,train_labels)\n",
    "print(classifier.score(val_data,val_labels))\n",
    "k_and_score=[]\n",
    "for k in range(1,101):\n",
    "  classifier=KNeighborsClassifier(n_neighbors = k)\n",
    "  classifier.fit(train_data,train_labels)\n",
    "  k_and_score.append([k,classifier.score(val_data,val_labels)])\n",
    "best_k=[item for item in k_and_score if max(k_and_score[1]==item[1])]\n",
    "print(best_k)"
   ]
  },
  {
   "cell_type": "markdown",
   "id": "7290d85d",
   "metadata": {},
   "source": [
    "The results doesnt look encouraging and it shows we cant predict sex effectively with above features\n",
    "\n",
    "Can we predict sex with education level and income? lets try it out. But before that lets check educatio"
   ]
  },
  {
   "cell_type": "code",
   "execution_count": null,
   "id": "73f53bb6",
   "metadata": {},
   "outputs": [],
   "source": []
  }
 ],
 "metadata": {
  "kernelspec": {
   "display_name": "Python 3",
   "language": "python",
   "name": "python3"
  },
  "language_info": {
   "codemirror_mode": {
    "name": "ipython",
    "version": 3
   },
   "file_extension": ".py",
   "mimetype": "text/x-python",
   "name": "python",
   "nbconvert_exporter": "python",
   "pygments_lexer": "ipython3",
   "version": "3.9.4"
  }
 },
 "nbformat": 4,
 "nbformat_minor": 5
}
