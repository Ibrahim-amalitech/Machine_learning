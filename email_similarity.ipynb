{
 "cells": [
  {
   "cell_type": "markdown",
   "id": "b42f0fef",
   "metadata": {},
   "source": [
    "# Email Similarity"
   ]
  },
  {
   "cell_type": "markdown",
   "id": "1d428e69",
   "metadata": {},
   "source": [
    "In this project, you will use scikit-learn’s Naive Bayes implementation on several different datasets. By reporting the accuracy of the classifier, we can find which datasets are harder to distinguish. For example, how difficult do you think it is to distinguish the difference between emails about hockey and emails about soccer? How hard is it to tell the difference between emails about hockey and emails about tech? In this project, we’ll find out exactly how difficult those two tasks are."
   ]
  },
  {
   "cell_type": "markdown",
   "id": "8b21fae9",
   "metadata": {},
   "source": [
    "We’ve imported a dataset of emails from scikit-learn’s datasets. All of these emails are tagged based on their content.\n",
    "Print emails.target_names to see the different categories."
   ]
  },
  {
   "cell_type": "code",
   "execution_count": 14,
   "id": "b25c5fa8",
   "metadata": {},
   "outputs": [
    {
     "name": "stdout",
     "output_type": "stream",
     "text": [
      "['rec.sport.baseball', 'rec.sport.hockey']\n"
     ]
    }
   ],
   "source": [
    "from sklearn.datasets import fetch_20newsgroups\n",
    "from sklearn.naive_bayes import MultinomialNB\n",
    "from sklearn.feature_extraction.text import CountVectorizer\n",
    "\n",
    "train_emails = fetch_20newsgroups(categories=['rec.sport.baseball', 'rec.sport.hockey'],subset='train',shuffle = True,random_state = 108)\n",
    "\n",
    "test_emails=fetch_20newsgroups(categories=['rec.sport.baseball', 'rec.sport.hockey'],subset='test',shuffle = True,random_state = 108)\n",
    "\n",
    "\n",
    "print(train_emails.target_names)"
   ]
  },
  {
   "cell_type": "markdown",
   "id": "78182c8f",
   "metadata": {},
   "source": [
    "We now want to split our data into training and test sets. Change the name of your variable from emails to train_emails. Add these three parameters to the function call:\n",
    "\n",
    "subset='train'\n",
    "shuffle = True\n",
    "random_state = 108\n",
    "Adding the random_state parameter will make sure that every time you run the code, your dataset is split in the same way.\n",
    "\n",
    "\n",
    "\n",
    "Let’s now make a Naive Bayes classifier that we can train and test on. Create a MultinomialNB object named classifier.\n",
    "\n",
    "Call classifier‘s .fit() function. .fit() takes two parameters. The first should be our training set, which for us is train_counts. The second should be the labels associated with the training emails. Those are found in train_emails.target.\n",
    "\n",
    "Test the Naive Bayes Classifier by printing classifier‘s .score() function. .score() takes the test set and the test labels as parameters.\n",
    "\n",
    ".score() returns the accuracy of the classifier on the test data. Accuracy measures the percentage of classifications a classifier correctly made."
   ]
  },
  {
   "cell_type": "code",
   "execution_count": 16,
   "id": "16414048",
   "metadata": {},
   "outputs": [
    {
     "name": "stdout",
     "output_type": "stream",
     "text": [
      "0.9723618090452262\n"
     ]
    }
   ],
   "source": [
    "train_emails = fetch_20newsgroups(categories=['rec.sport.baseball', 'rec.sport.hockey'],subset='train',shuffle = True,random_state = 108)\n",
    "\n",
    "test_emails=fetch_20newsgroups(categories=['rec.sport.baseball', 'rec.sport.hockey'],subset='test',shuffle = True,random_state = 108)\n",
    "\n",
    "\n",
    "\n",
    "# print(emails.target_names)\n",
    "\n",
    "# print(emails.data[5])\n",
    "# print(emails.target[5])\n",
    "\n",
    "counter=CountVectorizer()\n",
    "counter.fit(test_emails.data + train_emails.data)\n",
    "train_counts=counter.transform(train_emails.data)\n",
    "test_counts=counter.transform(test_emails.data)\n",
    "\n",
    "classifier=MultinomialNB()\n",
    "classifier.fit(train_counts,train_emails.target)\n",
    "print(classifier.score(test_counts,test_emails.target))"
   ]
  },
  {
   "cell_type": "markdown",
   "id": "e34c9022",
   "metadata": {},
   "source": [
    "Our classifier does a pretty good job distinguishing between soccer emails and hockey emails. But let’s see how it does with emails about really different topics.\n",
    "\n",
    "Find where you create train_emails and test_emails. Change the categories to be ['comp.sys.ibm.pc.hardware','rec.sport.hockey'].\n",
    "\n",
    "Did your classifier do a better or worse job on these two datasets?"
   ]
  },
  {
   "cell_type": "code",
   "execution_count": 17,
   "id": "200d95de",
   "metadata": {},
   "outputs": [
    {
     "name": "stdout",
     "output_type": "stream",
     "text": [
      "0.9974715549936789\n"
     ]
    }
   ],
   "source": [
    "# train_emails = fetch_20newsgroups(categories=['rec.sport.baseball', 'rec.sport.hockey'],subset='train',shuffle = True,random_state = 108)\n",
    "\n",
    "# test_emails=fetch_20newsgroups(categories=['rec.sport.baseball', 'rec.sport.hockey'],subset='test',shuffle = True,random_state = 108)\n",
    "\n",
    "train_emails = fetch_20newsgroups(categories=['comp.sys.ibm.pc.hardware','rec.sport.hockey'],subset='train',shuffle = True,random_state = 108)\n",
    "\n",
    "test_emails=fetch_20newsgroups(categories=['comp.sys.ibm.pc.hardware','rec.sport.hockey'],subset='test',shuffle = True,random_state = 108)\n",
    "\n",
    "# print(emails.target_names)\n",
    "\n",
    "# print(emails.data[5])\n",
    "# print(emails.target[5])\n",
    "\n",
    "counter=CountVectorizer()\n",
    "counter.fit(test_emails.data + train_emails.data)\n",
    "train_counts=counter.transform(train_emails.data)\n",
    "test_counts=counter.transform(test_emails.data)\n",
    "\n",
    "classifier=MultinomialNB()\n",
    "classifier.fit(train_counts,train_emails.target)\n",
    "print(classifier.score(test_counts,test_emails.target))"
   ]
  },
  {
   "cell_type": "code",
   "execution_count": null,
   "id": "acdc4674",
   "metadata": {},
   "outputs": [],
   "source": []
  }
 ],
 "metadata": {
  "kernelspec": {
   "display_name": "Python 3",
   "language": "python",
   "name": "python3"
  }
 },
 "nbformat": 4,
 "nbformat_minor": 5
}
