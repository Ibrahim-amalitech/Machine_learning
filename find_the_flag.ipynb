{
 "cells": [
  {
   "cell_type": "markdown",
   "id": "c1d86d3c",
   "metadata": {},
   "source": [
    "# Find the Flag"
   ]
  },
  {
   "cell_type": "markdown",
   "id": "7596ac7b",
   "metadata": {},
   "source": [
    "In this project, we’ll use decision trees to try to predict the continent of flags based on several of these features."
   ]
  },
  {
   "cell_type": "markdown",
   "id": "db299b25",
   "metadata": {},
   "source": [
    "Let’s start by seeing what the data looks like. Begin by loading the data into a variable named flags using Panda’s pd.read_csv() function. The function should take the name of the CSV file you want to load. In this case, our file is named \"flags.csv\".We also want row 0 to be used as the header, so include the parameter header = 0.\n",
    "INspect the data"
   ]
  },
  {
   "cell_type": "code",
   "execution_count": 5,
   "id": "f69d1b4a",
   "metadata": {},
   "outputs": [
    {
     "name": "stdout",
     "output_type": "stream",
     "text": [
      "Index(['Name', 'Landmass', 'Zone', 'Area', 'Population', 'Language',\n",
      "       'Religion', 'Bars', 'Stripes', 'Colors', 'Red', 'Green', 'Blue', 'Gold',\n",
      "       'White', 'Black', 'Orange', 'Mainhue', 'Circles', 'Crosses', 'Saltires',\n",
      "       'Quarters', 'Sunstars', 'Crescent', 'Triangle', 'Icon', 'Animate',\n",
      "       'Text', 'Topleft', 'Botright'],\n",
      "      dtype='object')\n",
      "             Name  Landmass  Zone  Area  Population  Language  Religion  Bars  \\\n",
      "0     Afghanistan         5     1   648          16        10         2     0   \n",
      "1         Albania         3     1    29           3         6         6     0   \n",
      "2         Algeria         4     1  2388          20         8         2     2   \n",
      "3  American-Samoa         6     3     0           0         1         1     0   \n",
      "4         Andorra         3     1     0           0         6         0     3   \n",
      "\n",
      "   Stripes  Colors  ...  Saltires  Quarters  Sunstars  Crescent  Triangle  \\\n",
      "0        3       5  ...         0         0         1         0         0   \n",
      "1        0       3  ...         0         0         1         0         0   \n",
      "2        0       3  ...         0         0         1         1         0   \n",
      "3        0       5  ...         0         0         0         0         1   \n",
      "4        0       3  ...         0         0         0         0         0   \n",
      "\n",
      "   Icon  Animate Text  Topleft  Botright  \n",
      "0     1        0    0    black     green  \n",
      "1     0        1    0      red       red  \n",
      "2     0        0    0    green     white  \n",
      "3     1        1    0     blue       red  \n",
      "4     0        0    0     blue       red  \n",
      "\n",
      "[5 rows x 30 columns]\n"
     ]
    }
   ],
   "source": [
    "import pandas as pd\n",
    "from sklearn.model_selection import train_test_split\n",
    "from sklearn.tree import DecisionTreeClassifier\n",
    "import matplotlib.pyplot as plt\n",
    "\n",
    "flags=pd.read_csv(\"flags.csv\",header=0)\n",
    "print(flags.columns)\n",
    "print(flags.head())"
   ]
  },
  {
   "cell_type": "markdown",
   "id": "7bff5499",
   "metadata": {},
   "source": [
    "Create a variable named labels and set it equal to only the \"Landmass\" column from flags"
   ]
  },
  {
   "cell_type": "code",
   "execution_count": 3,
   "id": "3bc5d1e1",
   "metadata": {},
   "outputs": [],
   "source": [
    "labels=flags[\"Landmass\"]"
   ]
  },
  {
   "cell_type": "markdown",
   "id": "27c2288e",
   "metadata": {},
   "source": [
    "Create a variable named data and set it equal to a DataFrame containing the following columns from flags:\n",
    "\n",
    "\"Red\"\n",
    "\"Green\"\n",
    "\"Blue\"\n",
    "\"Gold\"\n",
    "\"White\"\n",
    "\"Black\"\n",
    "\"Orange\""
   ]
  },
  {
   "cell_type": "code",
   "execution_count": 4,
   "id": "7ff7be45",
   "metadata": {},
   "outputs": [],
   "source": [
    "data=flags[[\"Red\",\"Green\",\"Blue\",\"Gold\",\"White\",\"Black\",\"Orange\"]] "
   ]
  },
  {
   "cell_type": "markdown",
   "id": "dd457fd8",
   "metadata": {},
   "source": [
    "Finally, let’s split these DataFrames into a training set and test set using the train_test_split() function. This function should take data and labels as parameters. Also include the parameter random_state = 1."
   ]
  },
  {
   "cell_type": "code",
   "execution_count": 6,
   "id": "390de0e9",
   "metadata": {},
   "outputs": [],
   "source": [
    "train_data, test_data, train_labels,test_labels=train_test_split(data,labels, random_state = 1)"
   ]
  },
  {
   "cell_type": "markdown",
   "id": "ec78a6e6",
   "metadata": {},
   "source": [
    "Create a DecisionTreeClassifier and name it tree. When you create the tree, give it the parameter random_state = 1.\n",
    "Fit the tree to the training data and score it"
   ]
  },
  {
   "cell_type": "code",
   "execution_count": 9,
   "id": "7a3099ba",
   "metadata": {},
   "outputs": [
    {
     "name": "stdout",
     "output_type": "stream",
     "text": [
      "0.3469387755102041\n"
     ]
    }
   ],
   "source": [
    "tree=DecisionTreeClassifier(random_state = 1)\n",
    "tree.fit(train_data,train_labels )\n",
    "print(tree.score(test_data ,test_labels))"
   ]
  },
  {
   "cell_type": "markdown",
   "id": "3ae61dfe",
   "metadata": {},
   "source": [
    "We now have a good baseline of how our model performs with these features. Let’s see if we can prune the tree to make it better! Put your code that creates, trains, and tests the tree inside a for loop that has a variable named i that increases from 1 to 20. Inside your for loop, when you create tree, give it the parameter max_depth = i. We’ll now see a printout of how the accuracy changes depending on how large we allow the tree to be.\n",
    "\n",
    "Rather than printing the score of each tree, let’s graph it! We want the x-axis to show the depth of the tree and the y-axis to show the tree’s score.To do this, we’ll need to create a list containing all of the scores. Before the for loop, create an empty list named scores. Inside the loop, instead of printing the tree’s score, use .append() to add it to scores."
   ]
  },
  {
   "cell_type": "code",
   "execution_count": 10,
   "id": "14963b68",
   "metadata": {},
   "outputs": [
    {
     "data": {
      "image/png": "[encoded data removed]",
      "text/plain": [
       "<Figure size 432x288 with 1 Axes>"
      ]
     },
     "metadata": {
      "needs_background": "light"
     },
     "output_type": "display_data"
    }
   ],
   "source": [
    "scores=[]\n",
    "for i in range(1, 21):\n",
    "  tree = DecisionTreeClassifier(random_state = 1, max_depth = i)\n",
    "  tree.fit(train_data,train_labels)\n",
    "  scores.append(tree.score(test_data ,test_labels))\n",
    "\n",
    "plt.plot(range(1,21),scores)\n",
    "plt.show()"
   ]
  },
  {
   "cell_type": "markdown",
   "id": "17b73d98",
   "metadata": {},
   "source": [
    "Our graph doesn’t really look like we would expect it to. It seems like the depth of the tree isn’t really having an impact on its performance. This might be a good indication that we’re not using enough features.Let’s add all the features that have to do with shapes to our data."
   ]
  },
  {
   "cell_type": "code",
   "execution_count": 20,
   "id": "d3ba9dba",
   "metadata": {},
   "outputs": [
    {
     "name": "stdout",
     "output_type": "stream",
     "text": [
      "0.5510204081632653\n"
     ]
    },
    {
     "data": {
      "image/png": "[encoded data removed]",
      "text/plain": [
       "<Figure size 432x288 with 1 Axes>"
      ]
     },
     "metadata": {
      "needs_background": "light"
     },
     "output_type": "display_data"
    }
   ],
   "source": [
    "data=flags[[\"Red\", \"Green\", \"Blue\", \"Gold\",\n",
    " \"White\", \"Black\", \"Orange\",\n",
    " \"Circles\",\n",
    "\"Crosses\",\"Saltires\",\"Quarters\",\"Sunstars\",\n",
    "\"Crescent\",\"Triangle\"]]\n",
    "train_data, test_data, train_labels,test_labels=train_test_split(data,labels, random_state = 1)\n",
    "\n",
    "tree=DecisionTreeClassifier(random_state = 1, max_depth = 5.5)\n",
    "tree.fit(train_data,train_labels )\n",
    "print(tree.score(test_data ,test_labels))\n",
    "scores=[]\n",
    "for i in range(1, 21):\n",
    "  tree = DecisionTreeClassifier(random_state = 1, max_depth = i)\n",
    "  tree.fit(train_data,train_labels)\n",
    "  scores.append(tree.score(test_data ,test_labels))\n",
    "\n",
    "plt.plot(range(1,21),scores)\n",
    "plt.show()"
   ]
  },
  {
   "cell_type": "code",
   "execution_count": null,
   "id": "ab6c2a3a",
   "metadata": {},
   "outputs": [],
   "source": []
  }
 ],
 "metadata": {
  "kernelspec": {
   "display_name": "Python 3",
   "language": "python",
   "name": "python3"
  },
  "language_info": {
   "codemirror_mode": {
    "name": "ipython",
    "version": 3
   },
   "file_extension": ".py",
   "mimetype": "text/x-python",
   "name": "python",
   "nbconvert_exporter": "python",
   "pygments_lexer": "ipython3",
   "version": "3.9.4"
  }
 },
 "nbformat": 4,
 "nbformat_minor": 5
}
